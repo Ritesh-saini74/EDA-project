{
  "nbformat": 4,
  "nbformat_minor": 0,
  "metadata": {
    "colab": {
      "private_outputs": true,
      "provenance": [],
      "collapsed_sections": [
        "vncDsAP0Gaoa",
        "FJNUwmbgGyua",
        "w6K7xa23Elo4",
        "yQaldy8SH6Dl",
        "PH-0ReGfmX4f",
        "mDgbUHAGgjLW",
        "O_i_v8NEhb9l",
        "HhfV-JJviCcP",
        "Y3lxredqlCYt",
        "3RnN4peoiCZX",
        "x71ZqKXriCWQ",
        "7hBIi_osiCS2",
        "JlHwYmJAmNHm",
        "35m5QtbWiB9F",
        "PoPl-ycgm1ru",
        "H0kj-8xxnORC",
        "nA9Y7ga8ng1Z",
        "PBTbrJXOngz2",
        "u3PMJOP6ngxN",
        "dauF4eBmngu3",
        "bKJF3rekwFvQ",
        "MSa1f5Uengrz",
        "GF8Ens_Soomf",
        "0wOQAZs5pc--",
        "K5QZ13OEpz2H",
        "lQ7QKXXCp7Bj",
        "448CDAPjqfQr",
        "KSlN3yHqYklG",
        "t6dVpIINYklI",
        "ijmpgYnKYklI",
        "-JiQyfWJYklI",
        "EM7whBJCYoAo",
        "fge-S5ZAYoAp",
        "85gYPyotYoAp",
        "RoGjAbkUYoAp",
        "4Of9eVA-YrdM",
        "iky9q4vBYrdO",
        "F6T5p64dYrdO",
        "y-Ehk30pYrdP",
        "bamQiAODYuh1",
        "QHF8YVU7Yuh3",
        "GwzvFGzlYuh3",
        "qYpmQ266Yuh3",
        "OH-pJp9IphqM",
        "bbFf2-_FphqN",
        "_ouA3fa0phqN",
        "Seke61FWphqN",
        "PIIx-8_IphqN",
        "t27r6nlMphqO",
        "r2jJGEOYphqO",
        "b0JNsNcRphqO",
        "BZR9WyysphqO",
        "jj7wYXLtphqO",
        "eZrbJ2SmphqO",
        "rFu4xreNphqO",
        "YJ55k-q6phqO",
        "gCFgpxoyphqP",
        "OVtJsKN_phqQ",
        "lssrdh5qphqQ",
        "U2RJ9gkRphqQ",
        "1M8mcRywphqQ",
        "tgIPom80phqQ",
        "JMzcOPDDphqR",
        "x-EpHcCOp1ci",
        "X_VqEhTip1ck",
        "8zGJKyg5p1ck",
        "PVzmfK_Ep1ck",
        "n3dbpmDWp1ck",
        "ylSl6qgtp1ck",
        "ZWILFDl5p1ck",
        "M7G43BXep1ck",
        "Ag9LCva-p1cl",
        "E6MkPsBcp1cl",
        "2cELzS2fp1cl",
        "3MPXvC8up1cl",
        "NC_X3p0fY2L0",
        "UV0SzAkaZNRQ",
        "YPEH6qLeZNRQ",
        "q29F0dvdveiT",
        "EXh0U9oCveiU",
        "22aHeOlLveiV",
        "JcMwzZxoAimU",
        "8G2x9gOozGDZ",
        "gCX9965dhzqZ",
        "gIfDvo9L0UH2"
      ],
      "include_colab_link": true
    },
    "kernelspec": {
      "name": "python3",
      "display_name": "Python 3"
    },
    "language_info": {
      "name": "python"
    }
  },
  "cells": [
    {
      "cell_type": "markdown",
      "metadata": {
        "id": "view-in-github",
        "colab_type": "text"
      },
      "source": [
        "<a href=\"https://colab.research.google.com/github/Ritesh-saini74/EDA-project/blob/main/Airbnb_Bookings_Analysis.ipynb\" target=\"_parent\"><img src=\"https://colab.research.google.com/assets/colab-badge.svg\" alt=\"Open In Colab\"/></a>"
      ]
    },
    {
      "cell_type": "markdown",
      "source": [
        "# **Project Name**    -\n",
        "\n"
      ],
      "metadata": {
        "id": "vncDsAP0Gaoa"
      }
    },
    {
      "cell_type": "markdown",
      "source": [
        "##### **Project Type**    - EDA\n",
        "##### **Contribution**    - Individual\n"
      ],
      "metadata": {
        "id": "beRrZCGUAJYm"
      }
    },
    {
      "cell_type": "markdown",
      "source": [
        "# **Project Summary -**"
      ],
      "metadata": {
        "id": "FJNUwmbgGyua"
      }
    },
    {
      "cell_type": "markdown",
      "source": [
        "\n",
        "\n",
        "*\n",
        "Airbnb is an online marketplace that connects people who want to rent out their property with people who are looking for accommodations, typically for short stays.\n",
        "\n",
        "\n",
        "* Airbnb offers hosts a relatively easy way to earn some income from their property.\n",
        "\n",
        "\n",
        "\n",
        "\n",
        "* Today, Airbnb became one of a kind service that is used and recognized by the whole world. Data analysis on millions of listings provided through Airbnb is a crucial factor for the company. These millions of listings generate a lot of data — data that can be analyzed and used for security, business decisions, understanding of customers’ and providers’ (hosts) behavior and performance on the platform, guiding marketing initiatives, implementation of innovative additional services and much more.\n",
        "\n",
        "* For this project we are analyzing Airbnb’s New York City(NYC) data of 2019. NYC is not only the most famous city in the world but also top global destination for visitors drawn to its museums, entertainment, restaurants and commerce.\n",
        "\n",
        "\n",
        "* This dataset has around 48895 observations in it with 16 columns and it is a mix of categorical and numeric values. Let’s Explore and analyze the data to discover key understandings.\n",
        "\n",
        "\n",
        "\n",
        "\n",
        "\n",
        "    # What is EDA ?\n",
        "\n",
        "* Exploratory data analysis (EDA) is used by data scientists to analyze and investigate data sets and summarize their main characteristics.\n",
        "\n",
        "\n",
        "\n",
        "* Exploratory Data Analysis or EDA is used to take insights from the data. Data Scientists and Analysts try to find different patterns, relations, and anomalies in the data using some statistical graphs and other visualization techniques. Following things are part of EDA :\n",
        "\n",
        "1. Get maximum insights from a data set\n",
        "2. Uncover underlying structure\n",
        "3. Extract important variables from the dataset\n",
        "4. Detect outliers and anomalies(if any)\n",
        "5. Test underlying assumptions\n",
        "6. Determine the optimal factor settings\n",
        "\n",
        "* The main purpose of EDA is to detect any errors, outliers as well as to understand different patterns in the data. It allows Analysts to understand the data better before making any assumptions. The outcomes of EDA helps businesses to know their customers, expand their business and take decisions accordingly.\n",
        "\n",
        "\n",
        "\n",
        "\n"
      ],
      "metadata": {
        "id": "F6v_1wHtG2nS"
      }
    },
    {
      "cell_type": "markdown",
      "source": [
        "# **GitHub Link -**"
      ],
      "metadata": {
        "id": "w6K7xa23Elo4"
      }
    },
    {
      "cell_type": "markdown",
      "source": [
        "Provide your GitHub Link here."
      ],
      "metadata": {
        "id": "h1o69JH3Eqqn"
      }
    },
    {
      "cell_type": "markdown",
      "source": [
        "# **Problem Statement**\n"
      ],
      "metadata": {
        "id": "yQaldy8SH6Dl"
      }
    },
    {
      "cell_type": "markdown",
      "source": [
        "1.**Business trend**- Collecting and organizing listing information for Airbnb is an important means of providing personalized recommendations to tenants. The availability, location, type,\n",
        "etc. of the listing is an important basis for ensuring that the tenant can find the right listing. Using listing information to capture business changes and trends is the foundation that helps Airbnb deliver quality service.\n",
        "\n",
        " 2.**Customized service**- Customer satisfaction is an important reference for customized services. Through a detailed analysis of customer satisfaction, Airbnb can find the qualities of quality homes and promote them to all listings to further increase customer satisfaction.\n",
        "\n",
        "  3.**Pricing model**- Airbnb's customers fall into two broad categories (tenants and renters), and for both parties housing prices are an important indicator of their satisfaction. A well-established pricing model can help Airbnb meet the price needs of its customers."
      ],
      "metadata": {
        "id": "DpeJGUA3kjGy"
      }
    },
    {
      "cell_type": "markdown",
      "source": [
        "#### **Define Your Business Objective?**"
      ],
      "metadata": {
        "id": "PH-0ReGfmX4f"
      }
    },
    {
      "cell_type": "markdown",
      "source": [
        ". The company aims to create a safe and trusted community where hosts and guests can connect and have positive experiences."
      ],
      "metadata": {
        "id": "PhDvGCAqmjP1"
      }
    },
    {
      "cell_type": "markdown",
      "source": [
        "# ***Let's Begin !***"
      ],
      "metadata": {
        "id": "O_i_v8NEhb9l"
      }
    },
    {
      "cell_type": "markdown",
      "source": [
        "## ***1. Know Your Data***"
      ],
      "metadata": {
        "id": "HhfV-JJviCcP"
      }
    },
    {
      "cell_type": "markdown",
      "source": [
        "### Import Libraries"
      ],
      "metadata": {
        "id": "Y3lxredqlCYt"
      }
    },
    {
      "cell_type": "code",
      "source": [
        "# Import Libraries\n",
        "\n",
        "import numpy as np\n",
        "import pandas as pd\n",
        "import matplotlib.pyplot as plt\n",
        "import seaborn as sns\n",
        "\n",
        "%matplotlib inline\n",
        "\n",
        "import warnings\n",
        "warnings.filterwarnings('ignore')"
      ],
      "metadata": {
        "id": "M8Vqi-pPk-HR"
      },
      "execution_count": null,
      "outputs": []
    },
    {
      "cell_type": "markdown",
      "source": [
        "### Dataset Loading"
      ],
      "metadata": {
        "id": "3RnN4peoiCZX"
      }
    },
    {
      "cell_type": "code",
      "source": [
        "# Load Dataset\n",
        "\n",
        "from google.colab import drive\n",
        "from google.colab import drive\n",
        "drive.mount('/content/drive')"
      ],
      "metadata": {
        "id": "4CkvbW_SlZ_R"
      },
      "execution_count": null,
      "outputs": []
    },
    {
      "cell_type": "code",
      "source": [
        "dataset = pd.read_csv('/content/Airbnb NYC 2019.csv')"
      ],
      "metadata": {
        "id": "7OJKFfxlXfGK"
      },
      "execution_count": null,
      "outputs": []
    },
    {
      "cell_type": "markdown",
      "source": [
        "### Dataset First View"
      ],
      "metadata": {
        "id": "x71ZqKXriCWQ"
      }
    },
    {
      "cell_type": "code",
      "source": [
        "# Dataset First Look\n",
        "\n",
        "dataset.head()"
      ],
      "metadata": {
        "id": "LWNFOSvLl09H"
      },
      "execution_count": null,
      "outputs": []
    },
    {
      "cell_type": "markdown",
      "source": [
        "### Dataset Rows & Columns count"
      ],
      "metadata": {
        "id": "7hBIi_osiCS2"
      }
    },
    {
      "cell_type": "code",
      "source": [
        "# Dataset Rows & Columns count\n",
        "dataset.shape"
      ],
      "metadata": {
        "id": "Kllu7SJgmLij"
      },
      "execution_count": null,
      "outputs": []
    },
    {
      "cell_type": "markdown",
      "source": [
        "*Dataset have 48895 rows and 16 columns*"
      ],
      "metadata": {
        "id": "nLRxSWDgYQQc"
      }
    },
    {
      "cell_type": "markdown",
      "source": [
        "### Dataset Information"
      ],
      "metadata": {
        "id": "JlHwYmJAmNHm"
      }
    },
    {
      "cell_type": "code",
      "source": [
        "# Dataset Info\n",
        "\n",
        "dataset.info()"
      ],
      "metadata": {
        "id": "e9hRXRi6meOf"
      },
      "execution_count": null,
      "outputs": []
    },
    {
      "cell_type": "markdown",
      "source": [
        "#### Duplicate Values"
      ],
      "metadata": {
        "id": "35m5QtbWiB9F"
      }
    },
    {
      "cell_type": "code",
      "source": [
        "# Dataset Duplicate Value Count\n",
        "\n",
        "dupli_count=dataset.duplicated().sum()\n",
        "print(f'Number of duplicate value is {dupli_count}')"
      ],
      "metadata": {
        "id": "1sLdpKYkmox0"
      },
      "execution_count": null,
      "outputs": []
    },
    {
      "cell_type": "markdown",
      "source": [
        "#### Missing Values/Null Values"
      ],
      "metadata": {
        "id": "PoPl-ycgm1ru"
      }
    },
    {
      "cell_type": "code",
      "source": [
        "# Missing Values/Null Values Count\n",
        "\n",
        "dataset.isnull().sum()"
      ],
      "metadata": {
        "id": "GgHWkxvamxVg"
      },
      "execution_count": null,
      "outputs": []
    },
    {
      "cell_type": "code",
      "source": [
        "# Visualizing the missing values\n",
        "\n",
        "plt.figure(figsize=(5,3))\n",
        "sns.heatmap(dataset.isnull())\n",
        "plt.title('Missing value heatmap')\n",
        "plt.show()"
      ],
      "metadata": {
        "id": "3q5wnI3om9sJ"
      },
      "execution_count": null,
      "outputs": []
    },
    {
      "cell_type": "markdown",
      "source": [
        "### What did you know about your dataset?"
      ],
      "metadata": {
        "id": "H0kj-8xxnORC"
      }
    },
    {
      "cell_type": "markdown",
      "source": [
        "As we see from above map, there are 10052 missing value in both the column of last review and reviews per month, 16 missing value in the column of name and 21 in host name."
      ],
      "metadata": {
        "id": "gfoNAAC-nUe_"
      }
    },
    {
      "cell_type": "markdown",
      "source": [
        "## ***2. Understanding Your Variables***"
      ],
      "metadata": {
        "id": "nA9Y7ga8ng1Z"
      }
    },
    {
      "cell_type": "code",
      "source": [
        "# Dataset Columns\n",
        "dataset.columns"
      ],
      "metadata": {
        "id": "j7xfkqrt5Ag5"
      },
      "execution_count": null,
      "outputs": []
    },
    {
      "cell_type": "code",
      "source": [
        "# Dataset Describe\n",
        "\n",
        "dataset.describe()"
      ],
      "metadata": {
        "id": "DnOaZdaE5Q5t"
      },
      "execution_count": null,
      "outputs": []
    },
    {
      "cell_type": "markdown",
      "source": [
        "### Variables Description"
      ],
      "metadata": {
        "id": "PBTbrJXOngz2"
      }
    },
    {
      "cell_type": "markdown",
      "source": [
        "ID: unique Id's\n",
        "\n",
        "Name: Name of Airbnb's listing\n",
        "\n",
        "Host ID: Unique host Id's\n",
        "\n",
        "Host Name: Name of the Host\n",
        "\n",
        "Neighbourhood Group: Location\n",
        "\n",
        "Neighbourhood: Area\n",
        "\n",
        "Lalitude: Lalitude Range\n",
        "\n",
        "Longitude: Longitude Range\n",
        "\n",
        "Room type: Type of room listed\n",
        "\n",
        "Price: Price of listing\n",
        "\n",
        "Minimum nights: Minimum night's to be paid for\n",
        "\n",
        "Number of Reviews: Number of Reviews\n",
        "\n",
        "Last Reviews: Last date of review\n",
        "\n",
        "Reviews per month: Number of review per month\n",
        "\n",
        "Calculated host listing count: Total count of listings of the host\n",
        "\n",
        "Availability 365: Availability around the year"
      ],
      "metadata": {
        "id": "aJV4KIxSnxay"
      }
    },
    {
      "cell_type": "markdown",
      "source": [
        "### Check Unique Values for each variable."
      ],
      "metadata": {
        "id": "u3PMJOP6ngxN"
      }
    },
    {
      "cell_type": "code",
      "source": [
        "# Check Unique Values for each variable.\n",
        "\n",
        "dataset.nunique()"
      ],
      "metadata": {
        "id": "zms12Yq5n-jE"
      },
      "execution_count": null,
      "outputs": []
    },
    {
      "cell_type": "markdown",
      "source": [
        "## 3. ***Data Wrangling***"
      ],
      "metadata": {
        "id": "dauF4eBmngu3"
      }
    },
    {
      "cell_type": "markdown",
      "source": [
        "### Data Wrangling Code"
      ],
      "metadata": {
        "id": "bKJF3rekwFvQ"
      }
    },
    {
      "cell_type": "code",
      "source": [
        "# Create a copy of the current dataset\n",
        "\n",
        "df = dataset.copy()"
      ],
      "metadata": {
        "id": "wk-9a2fpoLcV"
      },
      "execution_count": null,
      "outputs": []
    },
    {
      "cell_type": "code",
      "source": [
        "# Checking the number of rows with zero price\n",
        "\n",
        "df[df.price==0].shape"
      ],
      "metadata": {
        "id": "6domh2F8gzB9"
      },
      "execution_count": null,
      "outputs": []
    },
    {
      "cell_type": "markdown",
      "source": [
        "*we will drop this entries where price equal to zero*"
      ],
      "metadata": {
        "id": "gcuZceA9g_2r"
      }
    },
    {
      "cell_type": "code",
      "source": [
        "# Removing rows having zero price values\n",
        "\n",
        "df = df[df['price'] !=0]"
      ],
      "metadata": {
        "id": "-C2QA_FlhPOi"
      },
      "execution_count": null,
      "outputs": []
    },
    {
      "cell_type": "markdown",
      "source": [
        "*Both NAME and HOST NAME has very less missing value so we fill that with unknown and no name respectively*"
      ],
      "metadata": {
        "id": "d10n-goqiOrI"
      }
    },
    {
      "cell_type": "code",
      "source": [
        "# add string in missing places of name and host name\n",
        "\n",
        "df['name'].fillna('unknown',inplace=True)\n",
        "df['host_name'].fillna('anonymous',inplace=True)"
      ],
      "metadata": {
        "id": "ERWG_5WzixqF"
      },
      "execution_count": null,
      "outputs": []
    },
    {
      "cell_type": "code",
      "source": [
        "# fiiling null value with zero\n",
        "\n",
        "df['reviews_per_month']= dataset['reviews_per_month'].fillna(0)"
      ],
      "metadata": {
        "id": "P__SBH5Rjgof"
      },
      "execution_count": null,
      "outputs": []
    },
    {
      "cell_type": "code",
      "source": [
        "# drop the last review column\n",
        "\n",
        "df.drop(['last_review'],axis=1,inplace=True)"
      ],
      "metadata": {
        "id": "vBd8cV2Ql4el"
      },
      "execution_count": null,
      "outputs": []
    },
    {
      "cell_type": "code",
      "source": [
        "# new shape\n",
        "\n",
        "df.shape"
      ],
      "metadata": {
        "id": "NHl7nE_rnaKe"
      },
      "execution_count": null,
      "outputs": []
    },
    {
      "cell_type": "markdown",
      "source": [
        "### What all manipulations have you done and insights you found?"
      ],
      "metadata": {
        "id": "MSa1f5Uengrz"
      }
    },
    {
      "cell_type": "markdown",
      "source": [
        "Previous shape was contain 48895 rows and 16 columns\n",
        "\n",
        "Now, the new shape have 48884 rows and 15 columns means we removed all the rows where the price value is zero."
      ],
      "metadata": {
        "id": "LbyXE7I1olp8"
      }
    },
    {
      "cell_type": "code",
      "source": [
        "# Checking null value again\n",
        "\n",
        "df.isnull().sum()"
      ],
      "metadata": {
        "id": "KNo6EV63nnf_"
      },
      "execution_count": null,
      "outputs": []
    },
    {
      "cell_type": "code",
      "source": [
        "# correlation between variables\n",
        "\n",
        "corr = df.corr( method = \"kendall\")\n",
        "fig =plt.figure(figsize=(8,6))\n",
        "sns.heatmap(corr, annot = True)\n",
        "df.columns\n",
        ""
      ],
      "metadata": {
        "id": "cnrjbqK7oULS"
      },
      "execution_count": null,
      "outputs": []
    },
    {
      "cell_type": "markdown",
      "source": [
        "What can we learn about different hosts and areas?"
      ],
      "metadata": {
        "id": "HBAjpf_sS7Gj"
      }
    },
    {
      "cell_type": "code",
      "source": [
        "host_areas =dataset.groupby(['host_name','neighbourhood_group'])['calculated_host_listings_count'].max().reset_index()\n",
        "host_areas.sort_values(by='calculated_host_listings_count',ascending=False).head(5)"
      ],
      "metadata": {
        "id": "C-64kyUES0os"
      },
      "execution_count": null,
      "outputs": []
    },
    {
      "cell_type": "markdown",
      "source": [
        "We find that Host name Sonder(NYC) has listed highest number of listings in Manhattan followed by Blueground"
      ],
      "metadata": {
        "id": "SSCuknEaTF1t"
      }
    },
    {
      "cell_type": "markdown",
      "source": [
        "## ***4. Data Vizualization, Storytelling & Experimenting with charts : Understand the relationships between variables***"
      ],
      "metadata": {
        "id": "GF8Ens_Soomf"
      }
    },
    {
      "cell_type": "markdown",
      "source": [
        "#### Chart - 1\n",
        "\n"
      ],
      "metadata": {
        "id": "0wOQAZs5pc--"
      }
    },
    {
      "cell_type": "code",
      "source": [
        "##assign the numerical column to variable\n",
        "\n",
        "numerical_columns=list(dataset.select_dtypes(['int64','float64']).columns)\n",
        "numerical_features=pd.Index(numerical_columns)\n",
        "numerical_features"
      ],
      "metadata": {
        "id": "D2hmGVWYlCvy"
      },
      "execution_count": null,
      "outputs": []
    },
    {
      "cell_type": "code",
      "source": [
        "#printing displots to analyze the distribution of all numerical features\n",
        "for col in numerical_features:\n",
        "  plt.figure(figsize=(7,5))\n",
        "  sns.distplot(x=dataset[col])\n",
        "  plt.xlabel(col)\n",
        "plt.show()"
      ],
      "metadata": {
        "id": "BTLy20GP9Ut7"
      },
      "execution_count": null,
      "outputs": []
    },
    {
      "cell_type": "markdown",
      "source": [
        "##### 1. Why did you pick the specific chart?"
      ],
      "metadata": {
        "id": "K5QZ13OEpz2H"
      }
    },
    {
      "cell_type": "markdown",
      "source": [
        "A Distplot or distribution plot, depicts the variation in the data distribution. Seaborn Distplot represents the overall distribution of continuous data variables. The Seaborn module along with the Matplotlib module is used to depict the distplot with different variations in it."
      ],
      "metadata": {
        "id": "XESiWehPqBRc"
      }
    },
    {
      "cell_type": "markdown",
      "source": [
        "##### 2. What is/are the insight(s) found from the chart?"
      ],
      "metadata": {
        "id": "lQ7QKXXCp7Bj"
      }
    },
    {
      "cell_type": "markdown",
      "source": [
        "Its represent that the distribution is normal distribution or the data distribution is skewed in nature"
      ],
      "metadata": {
        "id": "C_j1G7yiqdRP"
      }
    },
    {
      "cell_type": "markdown",
      "source": [
        "##### 3. Will the gained insights help creating a positive business impact?\n",
        "Are there any insights that lead to negative growth? Justify with specific reason."
      ],
      "metadata": {
        "id": "Tx1com_yAUci"
      }
    },
    {
      "cell_type": "markdown",
      "source": [
        "Histogram can't give information regarding data. It only give about the distribution about the data"
      ],
      "metadata": {
        "id": "pcDDfu-lAUcv"
      }
    },
    {
      "cell_type": "markdown",
      "source": [
        "#### Chart - 2"
      ],
      "metadata": {
        "id": "KSlN3yHqYklG"
      }
    },
    {
      "cell_type": "code",
      "source": [
        "# Group the dataset by \"Neighbourhood group\" and calculate the average price\n",
        "\n",
        "neighborhood_avg_price = df.groupby('neighbourhood_group')['price'].mean()\n",
        "\n",
        "# Set the style of the plot\n",
        "sns. set (style=\"whitegrid\")\n",
        "\n",
        "# Create a bar plot\n",
        "\n",
        "plt.figure (figsize=(10, 6))\n",
        "ax = sns. barplot (x=neighborhood_avg_price.index, y=neighborhood_avg_price)\n",
        "\n",
        "# Set the title and axis labels\n",
        "plt.title('Neighbourhood Group vs Average Price')\n",
        "plt.xlabel ('Neighbourhood Group')\n",
        "plt.ylabel ('Average Price')\n",
        "plt.xticks(rotation=30)"
      ],
      "metadata": {
        "id": "R4YgtaqtYklH"
      },
      "execution_count": null,
      "outputs": []
    },
    {
      "cell_type": "markdown",
      "source": [
        "##### 1. Why did you pick the specific chart?"
      ],
      "metadata": {
        "id": "t6dVpIINYklI"
      }
    },
    {
      "cell_type": "markdown",
      "source": [
        "The bar graph helps to compare the different sets of data among different groups easily. It shows the relationship using two axes, in which the categories are on one axis and the discrete values are on the other axis."
      ],
      "metadata": {
        "id": "5aaW0BYyYklI"
      }
    },
    {
      "cell_type": "markdown",
      "source": [
        "##### 2. What is/are the insight(s) found from the chart?"
      ],
      "metadata": {
        "id": "ijmpgYnKYklI"
      }
    },
    {
      "cell_type": "markdown",
      "source": [
        "Analyzing the average prices of different neighborhood groups in the Airbnb 2019 NYC data set using a bar plot can provide valuable insights.\n",
        "By visually comparing the heights of the bars, we can identify which neighborhoods have higher or lower average prices. This information can\n",
        "be crucial for both hosts and guests. Hosts can gain insights into which neighborhoods tend to command higher prices and potentially adjust\n",
        "their pricing strategies accordingly. Guests, on the other hand, can use this information to make informed decisions about where to book\n",
        "accommodations based on their budget and preferences. Additionally, the ordered arrangement of the bars can reveal trends, highlighting\n",
        "which neighborhood groups consistently have higher or lower average prices. Overall, this analysis can help stakeholders in the Airbnb market\n",
        "understand the variations in prices across different neighborhood groups, enabling them to make data-driven decisions and optimize their\n",
        "experiences in the NYC market."
      ],
      "metadata": {
        "id": "PSx9atu2YklI"
      }
    },
    {
      "cell_type": "markdown",
      "source": [
        "##### 3. Will the gained insights help creating a positive business impact?\n",
        "Are there any insights that lead to negative growth? Justify with specific reason."
      ],
      "metadata": {
        "id": "-JiQyfWJYklI"
      }
    },
    {
      "cell_type": "markdown",
      "source": [
        "The insights gained from analyzing the average prices of different neighborhood groups in theyAirbnb 2019 NYC data set can have a positive\n",
        "business impact by helping hosts strategically set prices and maximize profits, and enabling guests to find accommodations within their\n",
        "desired budget.\n",
        "\n",
        "However, there is a potential for negative growth if certain neighborhoods consistently ave lower average prices, indicating a\n",
        "lack of demand or less desirable features."
      ],
      "metadata": {
        "id": "BcBbebzrYklV"
      }
    },
    {
      "cell_type": "markdown",
      "source": [
        "#### Chart - 3"
      ],
      "metadata": {
        "id": "EM7whBJCYoAo"
      }
    },
    {
      "cell_type": "code",
      "source": [
        "# Group the data by neighbourhood group' and calculate the average availability\n",
        "\n",
        "availability_by_group = df.groupby ('price')['availability_365'].mean()\n",
        "\n",
        "# Create a bar plot\n",
        "\n",
        "plt.figure (figsize=(8, 6))\n",
        "sns. lineplot(x=availability_by_group.index, y=availability_by_group.values)\n",
        "\n",
        "# Set the title and axis labels\n",
        "plt.title('Average Availability of Listings by Price')\n",
        "plt.xlabel('Price')\n",
        "plt.ylabel ('Average Availability (in days)')\n",
        "\n",
        "#Display the plot\n",
        "plt. show()"
      ],
      "metadata": {
        "id": "t6GMdE67YoAp"
      },
      "execution_count": null,
      "outputs": []
    },
    {
      "cell_type": "markdown",
      "source": [
        "##### 1. Why did you pick the specific chart?"
      ],
      "metadata": {
        "id": "fge-S5ZAYoAp"
      }
    },
    {
      "cell_type": "markdown",
      "source": [
        "A line plot is a graph that displays data with the help of symbols above a number line showing the frequency of each value. It is used to organize the data in a simple way and is very easy to interpret.\n"
      ],
      "metadata": {
        "id": "5dBItgRVYoAp"
      }
    },
    {
      "cell_type": "markdown",
      "source": [
        "##### 2. What is/are the insight(s) found from the chart?"
      ],
      "metadata": {
        "id": "85gYPyotYoAp"
      }
    },
    {
      "cell_type": "markdown",
      "source": [
        "The line plot shows how availability changes with price for different neighborhood groups in the Airbnb 2019 NYC dataset."
      ],
      "metadata": {
        "id": "4jstXR6OYoAp"
      }
    },
    {
      "cell_type": "markdown",
      "source": [
        "##### 3. Will the gained insights help creating a positive business impact?\n",
        "Are there any insights that lead to negative growth? Justify with specific reason."
      ],
      "metadata": {
        "id": "RoGjAbkUYoAp"
      }
    },
    {
      "cell_type": "markdown",
      "source": [
        "The insights gained from the line plot can have a positive business impact by optimizing pricing strategies and helping guests make informed\n",
        "choices."
      ],
      "metadata": {
        "id": "zfJ8IqMcYoAp"
      }
    },
    {
      "cell_type": "markdown",
      "source": [
        "#### Chart - 4"
      ],
      "metadata": {
        "id": "4Of9eVA-YrdM"
      }
    },
    {
      "cell_type": "code",
      "source": [
        "\n",
        "# Group the data by neighbourhood group and room_type, and calculate the mean price\n",
        "\n",
        "df = df.groupby (['neighbourhood_group','room_type'], as_index=False) [['price' ]].mean()\n",
        "\n",
        "# Create a figure\n",
        "plt.figure (figsize=(12, 6))\n",
        "\n",
        "# Create a bar plot with x as neighbourhood group, y as price, hue as room type\n",
        "df = sns.barplot (x=\"neighbourhood_group\", y=\"price\", data=df, hue='room_type')\n",
        "\n",
        "# Set the x and y labels, and the title of the plot\n",
        "plt.xlabel ('Neighbourhood Group')\n",
        "plt.ylabel ('Average Price')\n",
        "plt.title('Average Price by Room Type')\n",
        "# Show the plot\n",
        "plt. show()"
      ],
      "metadata": {
        "id": "irlUoxc8YrdO"
      },
      "execution_count": null,
      "outputs": []
    },
    {
      "cell_type": "markdown",
      "source": [
        "##### 1. Why did you pick the specific chart?"
      ],
      "metadata": {
        "id": "iky9q4vBYrdO"
      }
    },
    {
      "cell_type": "markdown",
      "source": [
        "Bar graphs are used to compare things between different groups\n",
        "\n",
        "Advantages:\n",
        "\n",
        "show each data category in a frequency distribution.\n",
        "\n",
        "display relative numbers or proportions of multiple categories.\n",
        "\n",
        "summarize a large data set in visual form.\n",
        "\n",
        "clarify trends better than do tables.\n",
        "\n",
        "estimate key values at a glance.\n",
        "\n",
        "permit a visual check of the accuracy and reasonableness of calculations."
      ],
      "metadata": {
        "id": "aJRCwT6DYrdO"
      }
    },
    {
      "cell_type": "markdown",
      "source": [
        "##### 2. What is/are the insight(s) found from the chart?"
      ],
      "metadata": {
        "id": "F6T5p64dYrdO"
      }
    },
    {
      "cell_type": "markdown",
      "source": [
        "The plot reveals the price ranges and differences between room types, allowing guests to identify\n",
        "accommodations that align with their budget. It also highlights popular room types and potential outliers, providing an understanding of market\n",
        "preferences and unique pricing patterns."
      ],
      "metadata": {
        "id": "Xx8WAJvtYrdO"
      }
    },
    {
      "cell_type": "markdown",
      "source": [
        "##### 3. Will the gained insights help creating a positive business impact?\n",
        "Are there any insights that lead to negative growth? Justify with specific reason."
      ],
      "metadata": {
        "id": "y-Ehk30pYrdP"
      }
    },
    {
      "cell_type": "markdown",
      "source": [
        "have a positive business impact by optimizing pricing strategies and meeting guest preferences. However, there is a potential for negative\n",
        "growth if certain room types are consistently overpriced or if intense price competition arises."
      ],
      "metadata": {
        "id": "jLNxxz7MYrdP"
      }
    },
    {
      "cell_type": "markdown",
      "source": [
        "#### Chart - 5"
      ],
      "metadata": {
        "id": "bamQiAODYuh1"
      }
    },
    {
      "cell_type": "code",
      "source": [
        "# room type and their prices according to area\n",
        "\n",
        "neighbourhood_group = ['Brooklyn', 'Manhattan', 'Queens', 'Manhattan', 'Brooklyn', 'Staten Island', 'Queens', 'Bronx', 'Queens', 'Bronx']\n",
        "room_type = ['Entire home/apt', 'Entire home/apt', 'Private room', 'Private room', 'Private room', 'Entire home/apt', 'Entire home/apt', 'Private room', 'Shared room', 'Entire home/apt']\n",
        "\n",
        "#Create a dictionary named room_dict to store the count of each room type. Loop through the room_type list and increase the count of the room type in the dictionary if it already exists. If not, add the room type as a key with the count as 1.\n",
        "room_dict = {}\n",
        "\n",
        "for i in room_type:\n",
        "    room_dict[i] = room_dict.get(i, 0) + 1\n",
        "\n",
        "#Plot a bar graph using the plt.bar function. The x-axis will be the room types which are the keys of the room_dict dictionary and the y-axis will be the count of each room type which are the values of the room_dict dictionary.\n",
        "plt.bar(room_dict.keys(), room_dict.values(), color='green', edgecolor='blue')\n",
        "\n",
        "\n",
        "plt.title('Room Types')\n",
        "plt.xlabel('Room Type')\n",
        "plt.ylabel('Count')\n",
        "plt.show()\n",
        ""
      ],
      "metadata": {
        "id": "TIJwrbroYuh3"
      },
      "execution_count": null,
      "outputs": []
    },
    {
      "cell_type": "markdown",
      "source": [
        "##### 1. Why did you pick the specific chart?"
      ],
      "metadata": {
        "id": "QHF8YVU7Yuh3"
      }
    },
    {
      "cell_type": "markdown",
      "source": [
        "Barplot shows the relationship between a numeric and a categoric variable. Each entity of the categoric variable is represented as a bar. The size of the bar represents its numeric value."
      ],
      "metadata": {
        "id": "dcxuIMRPYuh3"
      }
    },
    {
      "cell_type": "markdown",
      "source": [
        "##### 2. What is/are the insight(s) found from the chart?"
      ],
      "metadata": {
        "id": "GwzvFGzlYuh3"
      }
    },
    {
      "cell_type": "markdown",
      "source": [
        "We found that Entire home/apt is the highest number of room types overall and prices are high in the brooklyn and Manhattan for entire home/apt."
      ],
      "metadata": {
        "id": "uyqkiB8YYuh3"
      }
    },
    {
      "cell_type": "markdown",
      "source": [
        "##### 3. Will the gained insights help creating a positive business impact?\n",
        "Are there any insights that lead to negative growth? Justify with specific reason."
      ],
      "metadata": {
        "id": "qYpmQ266Yuh3"
      }
    },
    {
      "cell_type": "markdown",
      "source": [
        "It found that home/apt is the highest number of room types means guest wants this or they like privacy beacuse as we see shared room category is least. so we really wants to do something about shared rooms."
      ],
      "metadata": {
        "id": "_WtzZ_hCYuh4"
      }
    },
    {
      "cell_type": "markdown",
      "source": [
        "#### Chart - 6"
      ],
      "metadata": {
        "id": "OH-pJp9IphqM"
      }
    },
    {
      "cell_type": "code",
      "source": [
        "# Number of reviews in term of area\n",
        "\n",
        "area_reviews = dataset.groupby(['neighbourhood_group'])['number_of_reviews'].max().reset_index()\n",
        "area = area_reviews['neighbourhood_group']\n",
        "review = area_reviews['number_of_reviews']\n",
        "fig = plt.figure(figsize =(10,5))\n",
        "\n",
        "plt.bar(area, review, color =\"blue\", width =0.5)\n",
        "plt.xlabel('Area')\n",
        "plt.ylabel('Review')\n",
        "plt.title(\"Number of Reviews in terms of area\")\n",
        "plt.show()\n",
        ""
      ],
      "metadata": {
        "id": "kuRf4wtuphqN"
      },
      "execution_count": null,
      "outputs": []
    },
    {
      "cell_type": "markdown",
      "source": [
        "##### 1. Why did you pick the specific chart?"
      ],
      "metadata": {
        "id": "bbFf2-_FphqN"
      }
    },
    {
      "cell_type": "markdown",
      "source": [
        "A barplot (or barchart) is one of the most common types of graphic. It shows the relationship between a numeric and a categoric variable"
      ],
      "metadata": {
        "id": "loh7H2nzphqN"
      }
    },
    {
      "cell_type": "markdown",
      "source": [
        "##### 2. What is/are the insight(s) found from the chart?"
      ],
      "metadata": {
        "id": "_ouA3fa0phqN"
      }
    },
    {
      "cell_type": "markdown",
      "source": [
        "Here we found that neighbourhood group of Queens , manhattan area ,brooklyn , staten island and bronx is highest number of review in terms of area respectively."
      ],
      "metadata": {
        "id": "VECbqPI7phqN"
      }
    },
    {
      "cell_type": "markdown",
      "source": [
        "#### Chart - 7"
      ],
      "metadata": {
        "id": "PIIx-8_IphqN"
      }
    },
    {
      "cell_type": "code",
      "source": [
        "# Number of review Vs price\n",
        "\n",
        "price_area = dataset.groupby(['price'])['number_of_reviews'].max().reset_index()\n",
        "price_list = price_area['price']\n",
        "review = price_area['number_of_reviews']\n",
        "fig =plt.figure(figsize =(10,5))\n",
        "\n",
        "plt.scatter(price_list, review)\n",
        "plt.xlabel('Price')\n",
        "plt.ylabel('Number of reviews')\n",
        "plt.title('Number of Reviews VS Price')\n",
        "plt.show()\n",
        ""
      ],
      "metadata": {
        "id": "lqAIGUfyphqO"
      },
      "execution_count": null,
      "outputs": []
    },
    {
      "cell_type": "markdown",
      "source": [
        "##### 1. Why did you pick the specific chart?"
      ],
      "metadata": {
        "id": "t27r6nlMphqO"
      }
    },
    {
      "cell_type": "markdown",
      "source": [
        "A scatter plot (aka scatter chart, scatter graph) uses dots to represent values for two different numeric variables. The position of each dot on the horizontal and vertical axis indicates values for an individual data point. Scatter plots are used to observe relationships between variables."
      ],
      "metadata": {
        "id": "iv6ro40sphqO"
      }
    },
    {
      "cell_type": "markdown",
      "source": [
        "##### 2. What is/are the insight(s) found from the chart?"
      ],
      "metadata": {
        "id": "r2jJGEOYphqO"
      }
    },
    {
      "cell_type": "markdown",
      "source": [
        "From above visualization we can say that most number of people like to stay in less price and their reviews are higher in those areas"
      ],
      "metadata": {
        "id": "Po6ZPi4hphqO"
      }
    },
    {
      "cell_type": "markdown",
      "source": [
        "#### Chart - 8"
      ],
      "metadata": {
        "id": "BZR9WyysphqO"
      }
    },
    {
      "cell_type": "code",
      "source": [
        "# Which hosts are the busiest and why is the reason?\n",
        "\n",
        "busy_hosts = dataset.groupby(['host_id','host_name','room_type'])['number_of_reviews'].max().reset_index()\n",
        "busy_hosts = busy_hosts.sort_values(by = 'number_of_reviews', ascending =False).head(10)\n",
        "\n",
        "name_hosts = busy_hosts['host_name']\n",
        "review_got = busy_hosts['number_of_reviews']\n",
        "\n",
        "fig = plt.figure(figsize =(10,5))\n",
        "\n",
        "plt.bar(name_hosts,review_got, color ='purple', width =0.5)\n",
        "plt.xlabel('Name of the Host')\n",
        "plt.ylabel('Review')\n",
        "plt.title(\"Busiest Host in terms of reviews\")\n",
        "plt.show()"
      ],
      "metadata": {
        "id": "TdPTWpAVphqO"
      },
      "execution_count": null,
      "outputs": []
    },
    {
      "cell_type": "markdown",
      "source": [
        "##### 1. Why did you pick the specific chart?"
      ],
      "metadata": {
        "id": "jj7wYXLtphqO"
      }
    },
    {
      "cell_type": "markdown",
      "source": [
        "A bar plot or bar chart is a graph that represents the category of data with rectangular bars with lengths and heights that is proportional to the values which they represent. The bar plots can be plotted horizontally or vertically. A bar chart describes the comparisons between the discrete categories. One of the axis of the plot represents the specific categories being compared, while the other axis represents the measured values corresponding to those categories.\n"
      ],
      "metadata": {
        "id": "Ob8u6rCTphqO"
      }
    },
    {
      "cell_type": "markdown",
      "source": [
        "##### 2. What is/are the insight(s) found from the chart?"
      ],
      "metadata": {
        "id": "eZrbJ2SmphqO"
      }
    },
    {
      "cell_type": "markdown",
      "source": [
        "We have found Busiest hosts :\n",
        "\n",
        "Dona\n",
        "\n",
        "Ji\n",
        "\n",
        "Maya\n",
        "\n",
        "Carol\n",
        "\n",
        "Danielle\n",
        "\n",
        "Because these hosts listed their room type as Entire home and Private room which is preferred by most number of people and also their reviews are higher."
      ],
      "metadata": {
        "id": "mZtgC_hjphqO"
      }
    },
    {
      "cell_type": "markdown",
      "source": [
        "#### Chart - 9"
      ],
      "metadata": {
        "id": "YJ55k-q6phqO"
      }
    },
    {
      "cell_type": "code",
      "source": [
        "# Which Hosts are charging higher price?\n",
        "\n",
        "Highest_price= dataset.groupby(['host_id','host_name','room_type','neighbourhood_group'])['price'].max().reset_index()\n",
        "Highest_price= Highest_price.sort_values(by = 'price', ascending =False).head(10)\n",
        "\n",
        "name_of_host = Highest_price ['host_name']\n",
        "price_charge = Highest_price['price']\n",
        "\n",
        "fig = plt.figure(figsize =(10,5))\n",
        "\n",
        "plt.bar(name_of_host,price_charge , color ='orange', width =0.5)\n",
        "plt.xlabel('Name of the Host')\n",
        "plt.ylabel('Price')\n",
        "plt.title(\"Hosts with maximum price charges\")\n",
        "plt.show()\n",
        ""
      ],
      "metadata": {
        "id": "B2aS4O1ophqO"
      },
      "execution_count": null,
      "outputs": []
    },
    {
      "cell_type": "markdown",
      "source": [
        "##### 1. Why did you pick the specific chart?"
      ],
      "metadata": {
        "id": "gCFgpxoyphqP"
      }
    },
    {
      "cell_type": "markdown",
      "source": [
        "A bar plot or bar chart is a graph that represents the category of data with rectangular bars with lengths and heights that is proportional to the values which they represent. The bar plots can be plotted horizontally or vertically. A bar chart describes the comparisons between the discrete categories. One of the axis of the plot represents the specific categories being compared, while the other axis represents the measured values corresponding to those categories.\n"
      ],
      "metadata": {
        "id": "TVxDimi2phqP"
      }
    },
    {
      "cell_type": "markdown",
      "source": [
        "##### 2. What is/are the insight(s) found from the chart?"
      ],
      "metadata": {
        "id": "OVtJsKN_phqQ"
      }
    },
    {
      "cell_type": "markdown",
      "source": [
        "Now we have seen that 10 Hosts who are charging maximum price:\n",
        "\n",
        "\n",
        "Jelena, Kathrine, Erin, Matt, Olson, Amy, Rum, Jessica, Sally, Jack"
      ],
      "metadata": {
        "id": "ngGi97qjphqQ"
      }
    },
    {
      "cell_type": "markdown",
      "source": [
        "#### Chart - 10"
      ],
      "metadata": {
        "id": "U2RJ9gkRphqQ"
      }
    },
    {
      "cell_type": "code",
      "source": [
        "# What is the room count in overall NYC according to the listing of room types?\n",
        "\n",
        "plt.rcParams['figure.figsize'] = (8, 5)\n",
        "ax= sns.countplot(y='room_type',hue='neighbourhood_group',data=dataset,palette='bright')\n",
        "\n",
        "total = len(dataset['room_type'])\n",
        "for p in ax.patches:\n",
        "        percentage = '{:.1f}%'.format(100 * p.get_width()/total)\n",
        "        x = p.get_x() + p.get_width() + 0.02\n",
        "        y = p.get_y() + p.get_height()/2\n",
        "        ax.annotate(percentage, (x, y))\n",
        "\n",
        "plt.title('Count of each room types in NYC')\n",
        "plt.xlabel('Rooms')\n",
        "plt.xticks(rotation=90)\n",
        "plt.ylabel('Room Counts')\n",
        "\n",
        "plt.show()"
      ],
      "metadata": {
        "id": "GM7a4YP4phqQ"
      },
      "execution_count": null,
      "outputs": []
    },
    {
      "cell_type": "markdown",
      "source": [
        "##### 1. Why did you pick the specific chart?"
      ],
      "metadata": {
        "id": "1M8mcRywphqQ"
      }
    },
    {
      "cell_type": "markdown",
      "source": [
        "The countplot is used to represent the occurrence(counts) of the observation present in the categorical variable. It uses the concept of a bar chart for the visual depiction.\n"
      ],
      "metadata": {
        "id": "8agQvks0phqQ"
      }
    },
    {
      "cell_type": "markdown",
      "source": [
        "##### 2. What is/are the insight(s) found from the chart?"
      ],
      "metadata": {
        "id": "tgIPom80phqQ"
      }
    },
    {
      "cell_type": "markdown",
      "source": [
        "Manhattan has more listed properties with Entire home/apt around 27% of total listed properties followed by Brooklyn with around 19.6%.\n",
        "Private rooms are more in Brooklyn as in 20.7% of the total listed properties followed by Manhattan with 16.3% of them. While 6.9% of private rooms are from Queens.\n",
        "We can infer that Brooklyn,Queens,Bronx has more private room types while Manhattan which has the highest no of listings in entire NYC has more Entire home/apt room types."
      ],
      "metadata": {
        "id": "Qp13pnNzphqQ"
      }
    },
    {
      "cell_type": "markdown",
      "source": [
        "## **5. Solution to Business Objective**"
      ],
      "metadata": {
        "id": "JcMwzZxoAimU"
      }
    },
    {
      "cell_type": "markdown",
      "source": [
        "#### What do you suggest the client to achieve Business Objective ?\n",
        "\n",
        "---\n",
        "\n",
        "\n",
        " The idea of starting their own Airbnb attracts many people looking to make money from an existing asset their house or inner-city apartment. Perhaps it has something to do with the freedom of being your boss, or maybe it’s about the chance to meet interesting people from different parts of the world.\n",
        "\n",
        "If you have available space, running an Airbnb is a great way to make extra money on the side, and if things go well, it can even become your primary source of income. But having a successful Airbnb isn’t simply listing your rental property and waiting for the bookings to roll in. There’s actually a lot more to it.\n",
        "\n",
        "There are plenty of effective strategies that you can employ to become a successful host with just a single property. Here are our top tips on running an Airbnb business successfully.\n",
        "\n",
        "#High-quality photos make a difference\n",
        "\n",
        "Photos that communicate your property’s unique features can make your listing appealing to potential guests. You should take beautiful photos that capture the character of your place, the surrounding area, and any amenities and show your property from all angles.\n",
        "\n",
        "Make sure that your rental space is clean before photographing, and try to use natural lighting. You may want to hire a professional photographer because professional photos that capture the atmosphere of the listing can help it stand out from the rest and get more bookings.\n",
        "\n",
        "#Respond to Airbnb guests immediately\n",
        "\n",
        "When travelers see interesting Airbnb properties, they are likely to contact several hosts simultaneously. The faster you respond to booking inquiries, the higher your chances of getting the guests. If prospective guests don’t hear from you quickly, they will simply go elsewhere.\n",
        "\n",
        "If you want to be successful, you should be ready to respond to your guests at any given moment. Be polite and helpful when it comes to special requests. Conversations with guests require a substantial time commitment, and you should be prepared to devote some portion of each day to this important task, which is rather challenging.\n",
        "\n",
        "#Make your guests feel welcome\n",
        "\n",
        "Your Airbnb rental will be your guests’ home away from home, so make sure your place is clean and tidy before guests come there. In addition to stocking your listing with necessities, you should consider having books, movies, and entertainment options for your guests.\n",
        "\n",
        "#Price your listing reasonably\n",
        "\n",
        "The main reason travelers prefer Airbnb rentals is that they are more affordable than staying in a hotel. So you should do research to find out what other similar rentals in your neighborhood are charging and set a realistic rate.\n",
        "\n",
        "You may want to consider using software that will allow you to apply dynamic pricing to your listing. Setting a competitive rate will enhance your chances of attracting guests and having a high occupancy rate.\n",
        "\n",
        "#Hire professional cleaners\n",
        "\n",
        "Cleaning the property yourself is one way to cut costs. But you may quickly find that this task becomes incredibly time-consuming, especially for short-term lets. And if you do full-time rentals, the turnaround time between guests may be fast, so hiring a cleaning service may be the best option. Just make sure to provide your cleaners with a cleaning checklist.\n",
        "\n",
        "#Create a comprehensive welcome guide\n",
        "\n",
        "If you would like your guests to enjoy their stay without asking lots of questions, you’ll need to provide them with a printed copy of a detailed welcome book. It should list everything about your property and what guests need to know about their stay.\n",
        "\n",
        "\n",
        "**Running an Airbnb allows you to create additional income on your own terms with available space that may otherwise have been sitting empty. It’s up to you to decide whether you keep it as a part-time hustle or work to grow your hosting business to make more money. Just keep in mind that to do it right, you need to invest some time and effort.**\n"
      ],
      "metadata": {
        "id": "8G2x9gOozGDZ"
      }
    },
    {
      "cell_type": "markdown",
      "source": [
        "# **Conclusion**"
      ],
      "metadata": {
        "id": "gCX9965dhzqZ"
      }
    },
    {
      "cell_type": "markdown",
      "source": [
        "We find that Host name Sonder(NYC) has listed highest number of listings in Manhattan followed by Blueground.\n",
        "\n",
        "We found that Entire home/apt is the highest number of room types overall and prices are high in the brooklyn and Manhattan for entire home/apt.\n",
        "\n",
        "From above visualization we can say that most number of people like to stay in less price and their reviews are higher in those areas.\n",
        "\n",
        "We have found Busiest hosts :\n",
        "\n",
        "Dona, Ji, Maya,Carol,Danielle\n",
        "\n",
        "Because these hosts listed their room type as Entire home and Private room which is preferred by most number of people and also their reviews are higher.\n",
        "\n",
        "Now we have seen that 10 Hosts who are charging maximum price:\n",
        "Jelena,Kathrine,Erin,Matt,Olson,Amy,Rum,Jessica,Sally & Jack\n",
        "\n",
        "Max Price is 10000 USD\n",
        "\n",
        "From this visualization We found that most of the people likely to stay at Entire home and Private room which are present in Manhattan, Brooklyn & Queens and also vistors referring stay in room which listing price is less.\n",
        "\n",
        "We have seen all the correlation between different variables\n",
        "\n",
        "Manhattan has more listed properties with Entire home/apt around 27% of total listed properties followed by Brooklyn with around 19.6%.\n",
        "\n",
        "Private rooms are more in Brooklyn as in 20.7% of the total listed properties followed by Manhattan with 16.3% of them. While 6.9% of private rooms are from Queens. We can infer that Brooklyn,Queens,Bronx has more private room types while Manhattan which has the highest no of listings in entire NYC has more Entire home/apt room types."
      ],
      "metadata": {
        "id": "Fjb1IsQkh3yE"
      }
    },
    {
      "cell_type": "markdown",
      "source": [
        "### ***Hurrah! You have successfully completed your EDA Capstone Project !!!***"
      ],
      "metadata": {
        "id": "gIfDvo9L0UH2"
      }
    }
  ]
}